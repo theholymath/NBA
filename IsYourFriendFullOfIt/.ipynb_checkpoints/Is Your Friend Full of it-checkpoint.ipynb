{
 "cells": [
  {
   "cell_type": "markdown",
   "metadata": {},
   "source": [
    "# Solving 538's Riddler about Free Throws\n",
    "The question is was posted in early Septermber, 2017, __[here](https://fivethirtyeight.com/features/is-your-friend-full-of-it/)__  and is a undergraduate level probabilty problem:\n",
    "\n",
    "> You’re hanging out with some friends, shooting the breeze and talking sports. One of them brags to the group that he once made 17 free throws in a row after years of not having touched a basketball. You think the claim sounds unlikely, but plausible. Another friend scoffs, thinking it completely impossible. Let’s give your bragging friend the benefit of the doubt and say he’s a 70-percent free-throw shooter.\n",
    "\n",
    "> So, who’s right? What is the number of free throws that a 70-percent shooter would be expected to take before having a streak of 17 makes in a row? And what if his accuracy was a bit worse?\n",
    "\n",
    "This lends itself to a binomial probability distribution. The shooter has a 70% chance of making and a 30% chance of missing any given free throw. It should be immediate that for the shooter to make 17/17 the probability would be $$\\underbrace{(0.7)*(0.7)...*(0.7)}_{17 \\text{ times}} = 0.0023$$ This is roughly a 0.2% chance that the shooter will make 17 in a row while taking 17 shots. \n",
    "\n",
    "_But that's not the question..._\n",
    "\n",
    "We want the expected number of attempts until the shooter hits a streak of 17 in a row. "
   ]
  },
  {
   "cell_type": "markdown",
   "metadata": {},
   "source": [
    "# Expected Values\n",
    "\n",
    "Let's look at a similar problem that is a bit easier to wrap our heads around. I could ask how many times would I need to flip a coin before I got a streak of two heads. Clearly the probability of getting two heads in a row is (0.5)*(0.5) = 0.25, or 25%. \n",
    "\n",
    "The event we are concerned with is the event that we get two heads in a row. This is unknown so let's represent it with a variable, **X**. Let's say the first flip is a tails, which happens with a probability of 1/2, and is one wasted flip, so now we need **X + 1** flips to get a streak of two heads. \n",
    "\n",
    "Suppose that the first flip was heads but the second flip was tails. This happens with proabbility 1/4 and we have two wasted flips so we now need **X + 2** further flips. \n",
    "\n",
    "The only other possibility is that the two flips were both heads, which happens with probability 1/4 and took 2 flips. Summing these up we have \n",
    "\n",
    "> **X** = (1/2)(**X+1**) + (1/4)(**X + 2**) + (1/4)2\n",
    "\n",
    "Or **X = 6**. That is, on average, you should expect to get a streak of 2 heads every 6 flips.\n",
    "\n",
    "Generalizing this, for the _k_-th flip to be tails the number of flips would be $$\\frac{1}{2^k}(x + k)$$, and one can deduce the expected number of flips to get a streak of **N** heads would be $$X = 2^{N+1} - 2$$\n",
    "\n",
    "## _What if it's not a fair coin?_\n",
    "\n",
    "Let's start with two flips again and let's assume the head comes up with a 70% chance and tails only 30%. Let **X** be the number of flips needed to get a streak of two heads. \n",
    "\n",
    "If the first flip is a tail, that happens with a probability of 0.3 and we have wasted a flip so now we need **X + 1** flips. If the first flip is a head, but the second flip is a tail, that happens with a probability of (0.7)(0.3) and we need **X + 2** flips. If two consecutive flips are heads, which happen with probabilty (0.7)(0.7) we acheived success in two flips. Now our equation looks like:\n",
    "> **X** = (0.3)(**X+1**) + (0.7)(0.3)(**X + 2**) + (0.7)(0.7)2\n",
    "\n",
    "Solving for **X** we get $$X \\approx 3.469$$\n",
    "\n",
    "If let **X** now be 3 heads in a row, we go through the same analysis and end up with an equation that looks like \n",
    "\n",
    "> **X** = (0.3)(**X+1**) + (0.7)(0.3)(**X + 2**) + (0.7)(0.7)(0.3)(**X + 3**) + (0.7)(0.7)(0.7)3\n",
    "\n",
    "and solving for **X** we get that it takes approximately 6.38 flips.\n",
    "\n",
    "\n",
    "In general, if we let *a = probability of heads*, then *(1 - a) = probability of tails* and if we look for a streak of **X = 3** heads the equation above becomes,\n",
    "\n",
    "$$X = (1-a)(X+1) + (1-a)(a)(X + 2) + (1-a)(a^2)(X + 3) + a^33$$\n",
    "\n",
    " \n",
    "\n",
    "More generally, the expected number of flips to get **N** heads is \n",
    "$$ X = (1-a)\\sum_{k=1}^Na^{k-1}(X + k) + a^NN$$ and solving for **X** we have a nice tidy formula,\n",
    "$$X = \\frac{(1-a)\\sum_{k=1}^Nka^{k-1} + a^NN}{1 - (1 - a)\\sum_{k=1}^Na^{k-1}}$$"
   ]
  },
  {
   "cell_type": "markdown",
   "metadata": {},
   "source": []
  },
  {
   "cell_type": "code",
   "execution_count": 9,
   "metadata": {
    "collapsed": true
   },
   "outputs": [],
   "source": [
    "import numpy as np\n",
    "import pandas as pd\n",
    "\n",
    "import matplotlib.pyplot as plt\n",
    "%matplotlib inline\n",
    "\n",
    "def get_expected_value(a,N):\n",
    "    # this method returns the expected number \n",
    "    # of flips, free throws or whatever\n",
    "    \n",
    "    num = (1 - a)*np.sum([k*a**(k-1) for k in range(1,N+1)]) + a**N*N\n",
    "    den = 1 - (1-a)*np.sum([a**(k-1) for k in range(1,N+1)])\n",
    "    \n",
    "    return num/den\n",
    "\n",
    "def hours_and_minutes_to_acieve(attempts):\n",
    "    s = 11.0 # assume 11 seconds per free throw\n",
    "    \n",
    "    return s*attempts/60.0/60.0"
   ]
  },
  {
   "cell_type": "code",
   "execution_count": 14,
   "metadata": {},
   "outputs": [
    {
     "name": "stdout",
     "output_type": "stream",
     "text": [
      "6.0\n",
      "3.4693877551\n"
     ]
    }
   ],
   "source": [
    "# test it\n",
    "\n",
    "print(get_expected_value(0.5,2)) # should be 6\n",
    "print(get_expected_value(0.7,2)) # should be 3.469"
   ]
  },
  {
   "cell_type": "code",
   "execution_count": 3,
   "metadata": {},
   "outputs": [
    {
     "name": "stdout",
     "output_type": "stream",
     "text": [
      "The expected number of free throws \n",
      "for a 70% free throw shooter to hit 17 in a row is ...\n",
      "\n",
      "1429 attempts\n"
     ]
    }
   ],
   "source": [
    "# Free throws:\n",
    "print(\"The expected number of free throws \\n\\\n",
    "for a 70% free throw shooter to hit 17 in a row is ...\\n\")\n",
    "print(int(get_expected_value(0.7,17)),\"attempts\")"
   ]
  },
  {
   "cell_type": "markdown",
   "metadata": {},
   "source": [
    "# How long was he in the gym?\n",
    "\n",
    "So, let's say, on average it takes 11 seconds to take a free throw and recover your miss/make. Your buddy would, on average, spent 11$\\times$1429 seconds or about **4 hours and 22 minutes** to acieve this. "
   ]
  },
  {
   "cell_type": "code",
   "execution_count": 17,
   "metadata": {},
   "outputs": [
    {
     "name": "stdout",
     "output_type": "stream",
     "text": [
      "The length, in hours, to hit 17 in a row: 4.366388888888889\n"
     ]
    }
   ],
   "source": [
    "print(\"The length, in hours, to hit 17 in a row:\",hours_and_minutes_to_acieve(1429))"
   ]
  },
  {
   "cell_type": "code",
   "execution_count": 18,
   "metadata": {
    "collapsed": true
   },
   "outputs": [],
   "source": [
    "# for fun let's see how long it would take varous free throw shooters\n",
    "percentage = [40 + i for i in range(54)] # reasonable range\n",
    "\n",
    "shooting_info = pd.DataFrame(columns=['expected attempts','time'],index=percentage)\n"
   ]
  },
  {
   "cell_type": "code",
   "execution_count": 19,
   "metadata": {
    "collapsed": true
   },
   "outputs": [],
   "source": [
    "atts = []\n",
    "times = []\n",
    "for val in shooting_info.index:\n",
    "    attempts = get_expected_value(val*.01,17)\n",
    "    atts.append(attempts)\n",
    "    times.append(hours_and_minutes_to_acieve(attempts))\n",
    "shooting_info['time'] = times\n",
    "shooting_info['expected attempts'] = atts"
   ]
  },
  {
   "cell_type": "code",
   "execution_count": 20,
   "metadata": {},
   "outputs": [
    {
     "data": {
      "image/png": "[encoded data removed]",
      "text/plain": [
       "<matplotlib.figure.Figure at 0x1154a5a20>"
      ]
     },
     "metadata": {},
     "output_type": "display_data"
    }
   ],
   "source": [
    "fig = plt.figure(figsize=(11,8))\n",
    "plt.grid(zorder=0)\n",
    "plt.bar(shooting_info['expected attempts'][20:].index,shooting_info['expected attempts'][20:],\n",
    "       align='center', color='skyblue', zorder=3)\n",
    "plt.title('Expected attempts for shooters of different \\n FT percentages to hit 17 in a row')\n",
    "plt.xlabel('shooting percentage')\n",
    "plt.ylabel('expected attempts');\n"
   ]
  },
  {
   "cell_type": "code",
   "execution_count": 8,
   "metadata": {},
   "outputs": [
    {
     "data": {
      "image/png": "[encoded data removed]",
      "text/plain": [
       "<matplotlib.figure.Figure at 0x115228828>"
      ]
     },
     "metadata": {},
     "output_type": "display_data"
    }
   ],
   "source": [
    "fig = plt.figure(figsize=(11,8))\n",
    "plt.grid(zorder=0)\n",
    "plt.bar(shooting_info['time'][17:].index,shooting_info['time'][17:],\n",
    "       align='center', color='skyblue', zorder=3)\n",
    "plt.title('Expected time for shooters of different \\n percentages to hit 17 in a row')\n",
    "plt.xlabel('shooting percentage')\n",
    "plt.ylabel('time (hours)');"
   ]
  }
 ],
 "metadata": {
  "anaconda-cloud": {},
  "kernelspec": {
   "display_name": "Python [conda root]",
   "language": "python",
   "name": "conda-root-py"
  },
  "language_info": {
   "codemirror_mode": {
    "name": "ipython",
    "version": 3
   },
   "file_extension": ".py",
   "mimetype": "text/x-python",
   "name": "python",
   "nbconvert_exporter": "python",
   "pygments_lexer": "ipython3",
   "version": "3.5.0rc4"
  }
 },
 "nbformat": 4,
 "nbformat_minor": 2
}
